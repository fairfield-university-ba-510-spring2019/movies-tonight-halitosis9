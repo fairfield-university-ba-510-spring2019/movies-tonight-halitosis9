{
 "cells": [
  {
   "cell_type": "markdown",
   "metadata": {},
   "source": [
    "# Movies Tonight Part 1: Data Modeling"
   ]
  },
  {
   "cell_type": "markdown",
   "metadata": {},
   "source": [
    "## Study the Source Data.\n",
    "**Try out the [Movies Tonight](http://christopherhuntley.github.io/movies-tonight) web app.** This web app was originally developed as a Javascript demo for a database design class in 1996. It provides information about every movie shown in Riverside, California, on Thanksgiving 1996. The code is ancient –– Javascript was just 2 years old at the time –– and won’t work in some modern browsers. It should work fine in Chrome and Firefox, however."
   ]
  },
  {
   "cell_type": "markdown",
   "metadata": {},
   "source": [
    "## Now use Excel (yes!) to inspect the `movies.xls` file in this folder.  \n",
    "Download the file and open it in Excel.  \n",
    "![Movies Tonight Data in Excel](img/img1.png)  \n",
    "The file has denormalized data in three tabs/sheets:  \n",
    "- **Format 1** is a classic 1960s era mainframe format, designed to minimize the number of characters used in the file without using any numerical ids (which can hard to debug by hand). Each record is on a line and is one of three types (M, S, and T). Depending on the record type, the last field may be repeated if there are multiple values, making the # of fields variable (even when the record type doesn’t change).\n",
    "- **Format 2** is a slightly different arrangement, again with three record types. This time the repeated fields are split into separate records. To conserve characters in the file, fields are left blank if the values are the same in the record above it.\n",
    "- **Format 3** combines all three record types into a single record, at the cost of being extremely verbose and redundant. Notice how many rows the sheet has! Each record represents a single **movie credit** within a single **movie showing** at a given time at a **single theater**. (Read that three times to be sure you understand before going on.)     \n",
    "\n",
    "Take a moment to think about which of the three Formats you might want to use if you were sending 10 billion rows of data over the internet.   \n",
    "\n",
    "**Which format would you choose and why?**"
   ]
  },
  {
   "cell_type": "markdown",
   "metadata": {},
   "source": [
    "Format 3, it is set up in 1NF"
   ]
  },
  {
   "cell_type": "markdown",
   "metadata": {},
   "source": [
    "## Identify Dependencies.\n",
    "Capture all of the functional dependencies in the dataset. Write out each depedency as `determinant columns` --> `dependent columns`. Be as concise as possible. You may have to make some assumptions (for now) about names being unique. For example, assume that the movie names and people names are unique in our dataset. "
   ]
  },
  {
   "cell_type": "markdown",
   "metadata": {},
   "source": [
    "TName --> (Phone, Location)\n",
    "MTitle --> Rating\n",
    "(TName, STime) --> MTitle"
   ]
  },
  {
   "cell_type": "markdown",
   "metadata": {},
   "source": [
    "## Guess a Normalized Table Design.\n",
    "Based on your dependencies, split the data into a small number of normalized tables. Write each table out in relational notation (with one table per line):    \n",
    "TABLE_NAME(_pk_column1_, _pk_column2_, non-pk-column1, non-pk-column2) "
   ]
  },
  {
   "cell_type": "markdown",
   "metadata": {},
   "source": [
    "THEATER(_TID_, TName, Phone, Location)\n",
    "MOVIE(_MID_, MTitle, Rating)\n",
    "SHOW(_SID_, MID, TID, STime)\n",
    "ARTIST(_AID_, AName)\n",
    "CREDIT(_CID_, AID, MID, CCode)"
   ]
  },
  {
   "cell_type": "markdown",
   "metadata": {},
   "source": [
    "## Confirm that the tables are normalized at the BCNF level.\n",
    "List the dependencies for each table and confirm that they conform to BCNF rules. *If you find any mistakes, then go back to the previous step and try again.*"
   ]
  },
  {
   "cell_type": "markdown",
   "metadata": {},
   "source": [
    "YOUR ANSWER HERE"
   ]
  },
  {
   "cell_type": "markdown",
   "metadata": {},
   "source": [
    "## Draw an ERD\n",
    "You will use Lucidchart to draw your ERD and then link it into your Markdown document.\n",
    "1. **Create and open a new `BA510` folder in your student Google Drive.**  \n",
    "![Student Google Drive](img/img2.png)  \n",
    "If you do not know how to do that then ask for help. Many of your classmates have already used Google Drive and Lucidchart. Again, be 100% sure that you are using your student Google Drive, not your personal one.\n",
    "2. **Within your new BA510 folder, use the New menu to create a new Luchidchart diagram.** You will need to ask for \"more\" doc types in the \"New\" menu.\n",
    "3. **When asked for a template, choose `Entity Relationship (ERD)` from the right and \"Blank ERD\" from the left.**  \n",
    "![New ERD Diagram](img/img4.png)\n",
    "4. **Close any extraneous shape panels on the left.**  \n",
    "![Closing Shape Panels](img/img5.png)  \n",
    "Just the shape panel for ERDs should remain.\n",
    "5. **Drag the leftmost Entity prototype to the drawing canvas.**  \n",
    "![Dragging an Entity](img/img6.png)  \n",
    "The entity shape will have slots for an entity (class) name and three attributes. Edit to match your first table. Then repeat for each table in your design.\n",
    "6. **Add relationships as needed.**  \n",
    "To connect two entities, just click on an entity to make the 'drag circles' appear around its perimeter.  \n",
    "![Drag Circles](img/img7.png)  \n",
    "Then drag a circle toward the second entity to create the relationship.  \n",
    "![Relationship](img/img8.png)  \n",
    "You can adjust the cardinality on each end of the relationship using the endpoint styles in the toolbar.  \n",
    "![Endpoint Styles](img/img9.png)  \n",
    "7. **Rename the file to `MoviesTonightERD` and save it.**  \n",
    "![Endpoint Styles](img/img10.png)\n",
    "8. **From the Lucidchart File menu, download the diagram as a PNG with transparent background, cropped to content.**  \n",
    "![Download](img/img11.png)  \n",
    "The file will be downloaded as a PNG file wherever your browser usually downloads things.\n",
    "9. **Find the file on your hard disk and move it into your repository folder.**  \n",
    "10. **Rename the file to just `MoviesTonightERD.png`**.   \n",
    "11. **Upload the file to this project folder in JupyterLab.** If you named the file correctly, then it should display in the following cell once you \"run\" it. "
   ]
  },
  {
   "cell_type": "markdown",
   "metadata": {},
   "source": [
    "![Movies Tonight ERD](MoviesTonightERD.png)"
   ]
  },
  {
   "cell_type": "markdown",
   "metadata": {},
   "source": [
    "## Git add, commit, and push to GitHub. \n",
    "For your commit comment use \"Completed part 1.\""
   ]
  },
  {
   "cell_type": "code",
   "execution_count": null,
   "metadata": {},
   "outputs": [],
   "source": []
  },
  {
   "cell_type": "code",
   "execution_count": null,
   "metadata": {},
   "outputs": [],
   "source": []
  }
 ],
 "metadata": {
  "kernelspec": {
   "display_name": "Python 3",
   "language": "python",
   "name": "python3"
  },
  "language_info": {
   "codemirror_mode": {
    "name": "ipython",
    "version": 3
   },
   "file_extension": ".py",
   "mimetype": "text/x-python",
   "name": "python",
   "nbconvert_exporter": "python",
   "pygments_lexer": "ipython3",
   "version": "3.6.5"
  }
 },
 "nbformat": 4,
 "nbformat_minor": 2
}
